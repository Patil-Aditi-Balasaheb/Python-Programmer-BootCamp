{
 "cells": [
  {
   "cell_type": "markdown",
   "id": "b0403967",
   "metadata": {},
   "source": [
    "# Linear Search"
   ]
  },
  {
   "cell_type": "code",
   "execution_count": 1,
   "id": "00558d76",
   "metadata": {},
   "outputs": [],
   "source": [
    "def linear_search(item, my_list):\n",
    "    i = 0\n",
    "    found = False\n",
    "    \n",
    "    while i < len(my_list) and found == False:\n",
    "        if my_list[i] == item:\n",
    "            found = True\n",
    "        else:\n",
    "            i += 1\n",
    "    \n",
    "    return found    "
   ]
  },
  {
   "cell_type": "code",
   "execution_count": 2,
   "id": "9214111d",
   "metadata": {},
   "outputs": [
    {
     "name": "stdout",
     "output_type": "stream",
     "text": [
      "True\n",
      "False\n"
     ]
    }
   ],
   "source": [
    "test = [6, 5, 8, 2, 3, 45, 87, 24, 70]\n",
    "print(linear_search(87, test))\n",
    "print(linear_search(88, test))"
   ]
  },
  {
   "cell_type": "markdown",
   "id": "703a27de",
   "metadata": {},
   "source": [
    "# Binary Search"
   ]
  },
  {
   "cell_type": "code",
   "execution_count": 3,
   "id": "a4ca5dc3",
   "metadata": {},
   "outputs": [],
   "source": [
    "def binary_search(item, my_list):\n",
    "    found = False\n",
    "    first = 0\n",
    "    last = len(my_list) - 1\n",
    "    \n",
    "    while first <= last and found == False:\n",
    "        midpoint = (first + last) // 2\n",
    "        if my_list[midpoint] == item:\n",
    "            found = True\n",
    "        else:\n",
    "            if my_list[midpoint] < item:\n",
    "                first = midpoint + 1\n",
    "            else:\n",
    "                last = midpoint - 1\n",
    "    return found"
   ]
  },
  {
   "cell_type": "code",
   "execution_count": 4,
   "id": "d83cdff0",
   "metadata": {},
   "outputs": [
    {
     "name": "stdout",
     "output_type": "stream",
     "text": [
      "True\n",
      "False\n"
     ]
    }
   ],
   "source": [
    "test = [6, 5, 8, 2, 3, 45, 87, 24, 70]\n",
    "print(binary_search(87, test))\n",
    "print(binary_search(88, test))"
   ]
  },
  {
   "cell_type": "markdown",
   "id": "64139014",
   "metadata": {},
   "source": [
    "# Insertion Sort"
   ]
  },
  {
   "cell_type": "code",
   "execution_count": 5,
   "id": "88edfbdf",
   "metadata": {},
   "outputs": [],
   "source": [
    "def insertion_sort(my_list):\n",
    "    n = len(my_list)\n",
    "    for i in range(1, n):\n",
    "        value = my_list[i]\n",
    "        j = i\n",
    "        while j > 0 and my_list[j-1] > value:\n",
    "            my_list[j] = my_list[j-1]\n",
    "            j -= 1\n",
    "        my_list[j] = value\n",
    "    return my_list"
   ]
  },
  {
   "cell_type": "code",
   "execution_count": 6,
   "id": "f4ddeff0",
   "metadata": {},
   "outputs": [
    {
     "name": "stdout",
     "output_type": "stream",
     "text": [
      "[2, 3, 5, 6, 8, 24, 45, 70, 87]\n"
     ]
    }
   ],
   "source": [
    "test = [70, 24, 87, 45, 6, 3, 2, 8, 5]\n",
    "print(insertion_sort(test))"
   ]
  }
 ],
 "metadata": {
  "kernelspec": {
   "display_name": "Python 3 (ipykernel)",
   "language": "python",
   "name": "python3"
  },
  "language_info": {
   "codemirror_mode": {
    "name": "ipython",
    "version": 3
   },
   "file_extension": ".py",
   "mimetype": "text/x-python",
   "name": "python",
   "nbconvert_exporter": "python",
   "pygments_lexer": "ipython3",
   "version": "3.9.7"
  }
 },
 "nbformat": 4,
 "nbformat_minor": 5
}
