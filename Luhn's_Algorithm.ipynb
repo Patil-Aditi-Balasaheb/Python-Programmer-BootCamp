{
 "cells": [
  {
   "cell_type": "markdown",
   "id": "215e3419",
   "metadata": {},
   "source": [
    "# Luhn's Algorithm to check Credit Card Number is valid or not"
   ]
  },
  {
   "cell_type": "markdown",
   "id": "3a5b8012",
   "metadata": {},
   "source": [
    "#### Steps:\n",
    "\n",
    "1. Multiply every 2nd digit by 2 starting from 2nd last and then add those digits together.\n",
    "2. Add that number to the sum of the digits that were not multiplied by 2.\n",
    "3. Find the remainder when that is divided by 10. If remainder is 0 number is valid."
   ]
  },
  {
   "cell_type": "code",
   "execution_count": 1,
   "id": "019e9b63",
   "metadata": {},
   "outputs": [],
   "source": [
    "def luhn_algo(credit_no):\n",
    "    credit = [int(i) for i in str(credit_no)]\n",
    "    credit_sum = 0\n",
    "    \n",
    "    for i in range(len(credit) - 2, -1, -2):\n",
    "        product = credit[i] * 2\n",
    "        credit_sum += sum([int(i) for i in str(product)])\n",
    "    \n",
    "    for i in range(len(credit) - 1, -1, -2):\n",
    "        credit_sum += credit[i]\n",
    "    \n",
    "    if credit_sum % 10 == 0:\n",
    "        print(f\"{credit_no} is a Valid credit card number\")\n",
    "    else:\n",
    "        print(f\"{credit_no} is a Invalid credit card number\")"
   ]
  },
  {
   "cell_type": "code",
   "execution_count": 2,
   "id": "c97c1591",
   "metadata": {},
   "outputs": [
    {
     "name": "stdout",
     "output_type": "stream",
     "text": [
      "Please enter credit card number :> 6011111111111117\n",
      "6011111111111117 is a Valid credit card number\n"
     ]
    }
   ],
   "source": [
    "number = input('Please enter credit card number :> ')\n",
    "luhn_algo(number)"
   ]
  },
  {
   "cell_type": "markdown",
   "id": "df6e5625",
   "metadata": {},
   "source": [
    "##### Credit Card Numbers:\n",
    "\n",
    "371449635398431\n",
    "\n",
    "378734493671000\n",
    "\n",
    "5610591081018250\n",
    "\n",
    "30569309025904\n",
    "\n",
    "38520000023237\n",
    "\n",
    "6011111111111117\n",
    "\n",
    "6011000990139424\n",
    "\n",
    "3530111333300000\n",
    "\n",
    "3566002020360505\n",
    "\n",
    "5555555555554444\n",
    "\n",
    "5105105105105100\n",
    "\n",
    "4111111111111111\n",
    "\n",
    "4012888888881881\n",
    "\n",
    "4222222222222"
   ]
  }
 ],
 "metadata": {
  "kernelspec": {
   "display_name": "Python 3 (ipykernel)",
   "language": "python",
   "name": "python3"
  },
  "language_info": {
   "codemirror_mode": {
    "name": "ipython",
    "version": 3
   },
   "file_extension": ".py",
   "mimetype": "text/x-python",
   "name": "python",
   "nbconvert_exporter": "python",
   "pygments_lexer": "ipython3",
   "version": "3.9.7"
  }
 },
 "nbformat": 4,
 "nbformat_minor": 5
}
