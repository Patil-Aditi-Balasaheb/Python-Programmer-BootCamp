{
 "cells": [
  {
   "cell_type": "markdown",
   "id": "f2fe6cdd",
   "metadata": {},
   "source": [
    "### Create a list of n coins"
   ]
  },
  {
   "cell_type": "code",
   "execution_count": 1,
   "id": "6d1e1f58",
   "metadata": {},
   "outputs": [],
   "source": [
    "n = 1001\n",
    "coins = [0] * n"
   ]
  },
  {
   "cell_type": "markdown",
   "id": "9ce23dc4",
   "metadata": {},
   "source": [
    "### The first loop increses the step size, the second iterates through the coins using that step size, swapping a 1 for a 0 or a 0 for a 1. This is a convenient way of switching between those two values. In this case 1 indicates 'Head' and 0 'Tail'"
   ]
  },
  {
   "cell_type": "code",
   "execution_count": 2,
   "id": "39040e39",
   "metadata": {},
   "outputs": [],
   "source": [
    "for i in range(1, n):\n",
    "    for j in range(0, n, i):\n",
    "        coins[j] = 1 - coins[j]"
   ]
  },
  {
   "cell_type": "markdown",
   "id": "4cd8d0a9",
   "metadata": {},
   "source": [
    "### We create a dictionary, the key is the index value of the list of coins, the value is heads"
   ]
  },
  {
   "cell_type": "code",
   "execution_count": 3,
   "id": "5adf6711",
   "metadata": {},
   "outputs": [],
   "source": [
    "d = {}\n",
    "for i, v in enumerate(coins):\n",
    "    if v != 0:\n",
    "        d[i] = v"
   ]
  },
  {
   "cell_type": "code",
   "execution_count": 4,
   "id": "53200929",
   "metadata": {},
   "outputs": [
    {
     "name": "stdout",
     "output_type": "stream",
     "text": [
      "{1: 1, 4: 1, 9: 1, 16: 1, 25: 1, 36: 1, 49: 1, 64: 1, 81: 1, 100: 1, 121: 1, 144: 1, 169: 1, 196: 1, 225: 1, 256: 1, 289: 1, 324: 1, 361: 1, 400: 1, 441: 1, 484: 1, 529: 1, 576: 1, 625: 1, 676: 1, 729: 1, 784: 1, 841: 1, 900: 1, 961: 1}\n"
     ]
    }
   ],
   "source": [
    "print(d)"
   ]
  },
  {
   "cell_type": "markdown",
   "id": "d3177c57",
   "metadata": {},
   "source": [
    "### Can you see the pattern?"
   ]
  },
  {
   "cell_type": "code",
   "execution_count": 5,
   "id": "384e5548",
   "metadata": {},
   "outputs": [],
   "source": [
    "L = []\n",
    "for k, v in d.items():\n",
    "    L.append(k)"
   ]
  },
  {
   "cell_type": "code",
   "execution_count": 6,
   "id": "7e3af998",
   "metadata": {},
   "outputs": [
    {
     "name": "stdout",
     "output_type": "stream",
     "text": [
      "[1, 4, 9, 16, 25, 36, 49, 64, 81, 100, 121, 144, 169, 196, 225, 256, 289, 324, 361, 400, 441, 484, 529, 576, 625, 676, 729, 784, 841, 900, 961]\n"
     ]
    }
   ],
   "source": [
    "print(L)"
   ]
  },
  {
   "cell_type": "code",
   "execution_count": 7,
   "id": "9c735472",
   "metadata": {},
   "outputs": [],
   "source": [
    "import math\n",
    "L2 = [math.sqrt(i) for i in L]"
   ]
  },
  {
   "cell_type": "code",
   "execution_count": 8,
   "id": "47615fae",
   "metadata": {},
   "outputs": [
    {
     "name": "stdout",
     "output_type": "stream",
     "text": [
      "[1.0, 2.0, 3.0, 4.0, 5.0, 6.0, 7.0, 8.0, 9.0, 10.0, 11.0, 12.0, 13.0, 14.0, 15.0, 16.0, 17.0, 18.0, 19.0, 20.0, 21.0, 22.0, 23.0, 24.0, 25.0, 26.0, 27.0, 28.0, 29.0, 30.0, 31.0]\n"
     ]
    }
   ],
   "source": [
    "print(L2)"
   ]
  }
 ],
 "metadata": {
  "kernelspec": {
   "display_name": "Python 3 (ipykernel)",
   "language": "python",
   "name": "python3"
  },
  "language_info": {
   "codemirror_mode": {
    "name": "ipython",
    "version": 3
   },
   "file_extension": ".py",
   "mimetype": "text/x-python",
   "name": "python",
   "nbconvert_exporter": "python",
   "pygments_lexer": "ipython3",
   "version": "3.9.7"
  }
 },
 "nbformat": 4,
 "nbformat_minor": 5
}
