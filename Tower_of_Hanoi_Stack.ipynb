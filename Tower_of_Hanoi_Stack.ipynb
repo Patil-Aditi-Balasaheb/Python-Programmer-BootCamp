{
 "cells": [
  {
   "cell_type": "markdown",
   "id": "683d2dd0",
   "metadata": {},
   "source": [
    "# Tower of Hanoi Problem"
   ]
  },
  {
   "cell_type": "markdown",
   "id": "5500825b",
   "metadata": {},
   "source": [
    "When moving 3 disks from A to C, we move the top 2 disks to B and then the bottom disk to C. \n",
    "More generally, when movig n disks from A to C we move n-1 disks to B; we then move the base disk from A to C and then move the stack of n-1 on B to C."
   ]
  },
  {
   "cell_type": "code",
   "execution_count": 1,
   "id": "953f5ace",
   "metadata": {},
   "outputs": [],
   "source": [
    "# we have 3 towers A, B, and C or 3 stacks\n",
    "A = [14, 13, 12, 11, 10, 9, 8, 7, 6, 5, 4, 3, 2, 1]\n",
    "B = []\n",
    "C = []"
   ]
  },
  {
   "cell_type": "code",
   "execution_count": 2,
   "id": "e1002c37",
   "metadata": {},
   "outputs": [],
   "source": [
    "# according to our rules, if we want to move all disks 3, 2, and 1 from A to C,\n",
    "# we first move two disks from A to B. We then move the base disk from A to C\n",
    "# and then the stack of two from B to C\n",
    "count = 0\n",
    "def towers_of_hanoi(A, B, C, n):\n",
    "    global count\n",
    "    if n == 1:\n",
    "        disk = A.pop()\n",
    "        C.append(disk)\n",
    "        count += 1\n",
    "    else:\n",
    "        towers_of_hanoi(A, C, B, n-1)\n",
    "        towers_of_hanoi(A, B, C, 1)\n",
    "        towers_of_hanoi(B, A, C, n-1)\n",
    "    return count"
   ]
  },
  {
   "cell_type": "code",
   "execution_count": 3,
   "id": "aacbfa01",
   "metadata": {},
   "outputs": [
    {
     "data": {
      "text/plain": [
       "16383"
      ]
     },
     "execution_count": 3,
     "metadata": {},
     "output_type": "execute_result"
    }
   ],
   "source": [
    "towers_of_hanoi(A, B, C, 14)"
   ]
  },
  {
   "cell_type": "code",
   "execution_count": 4,
   "id": "ac3c8e04",
   "metadata": {},
   "outputs": [
    {
     "name": "stdout",
     "output_type": "stream",
     "text": [
      "[]\n",
      "[]\n",
      "[14, 13, 12, 11, 10, 9, 8, 7, 6, 5, 4, 3, 2, 1]\n"
     ]
    }
   ],
   "source": [
    "print(A)\n",
    "print(B)\n",
    "print(C)"
   ]
  }
 ],
 "metadata": {
  "kernelspec": {
   "display_name": "Python 3 (ipykernel)",
   "language": "python",
   "name": "python3"
  },
  "language_info": {
   "codemirror_mode": {
    "name": "ipython",
    "version": 3
   },
   "file_extension": ".py",
   "mimetype": "text/x-python",
   "name": "python",
   "nbconvert_exporter": "python",
   "pygments_lexer": "ipython3",
   "version": "3.9.7"
  }
 },
 "nbformat": 4,
 "nbformat_minor": 5
}
